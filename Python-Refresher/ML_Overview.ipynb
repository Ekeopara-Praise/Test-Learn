import pandas as pd

data = pd.DataFrame(columns=['x1', 'y'], data=[[1, 3], [2, 5], [3, 7], [4, 9]])

def simple_model(w1, w0):
    """
    A simple linear model function that computes the output based on weights and input features.
    
    Parameters:
    w1 (float): Weight for the input feature x1.
    w0 (float): Bias term.
    
    Returns:
    function: A function that takes a DataFrame and computes the output.
    """
    def model(X):
        return w1 * X['x1'] + w0
    return model