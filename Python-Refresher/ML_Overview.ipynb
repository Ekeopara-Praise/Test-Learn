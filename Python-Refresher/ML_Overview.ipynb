{
 "cells": [
  {
   "cell_type": "markdown",
   "id": "83b2932d",
   "metadata": {},
   "source": [
    "## Step 1: Create Data input and Output"
   ]
  },
  {
   "cell_type": "code",
   "execution_count": null,
   "id": "789eaa75",
   "metadata": {},
   "outputs": [],
   "source": [
    "import pandas as pd  # Import pandas library for data manipulation\n",
    "\n",
    "# Create a DataFrame with columns 'x' and 'y' and sample data\n",
    "data = pd.DataFrame(columns=('x', 'y'), data=[(1, 100), (2, 200), (3, 300)])"
   ]
  },
  {
   "cell_type": "code",
   "execution_count": 2,
   "id": "339b368a",
   "metadata": {},
   "outputs": [
    {
     "data": {
      "text/html": [
       "<div>\n",
       "<style scoped>\n",
       "    .dataframe tbody tr th:only-of-type {\n",
       "        vertical-align: middle;\n",
       "    }\n",
       "\n",
       "    .dataframe tbody tr th {\n",
       "        vertical-align: top;\n",
       "    }\n",
       "\n",
       "    .dataframe thead th {\n",
       "        text-align: right;\n",
       "    }\n",
       "</style>\n",
       "<table border=\"1\" class=\"dataframe\">\n",
       "  <thead>\n",
       "    <tr style=\"text-align: right;\">\n",
       "      <th></th>\n",
       "      <th>x</th>\n",
       "      <th>y</th>\n",
       "    </tr>\n",
       "  </thead>\n",
       "  <tbody>\n",
       "    <tr>\n",
       "      <th>0</th>\n",
       "      <td>1</td>\n",
       "      <td>100</td>\n",
       "    </tr>\n",
       "    <tr>\n",
       "      <th>1</th>\n",
       "      <td>2</td>\n",
       "      <td>200</td>\n",
       "    </tr>\n",
       "    <tr>\n",
       "      <th>2</th>\n",
       "      <td>3</td>\n",
       "      <td>300</td>\n",
       "    </tr>\n",
       "  </tbody>\n",
       "</table>\n",
       "</div>"
      ],
      "text/plain": [
       "   x    y\n",
       "0  1  100\n",
       "1  2  200\n",
       "2  3  300"
      ]
     },
     "execution_count": 2,
     "metadata": {},
     "output_type": "execute_result"
    }
   ],
   "source": [
    "data.head()"
   ]
  },
  {
   "cell_type": "code",
   "execution_count": null,
   "id": "b1c45d77",
   "metadata": {},
   "outputs": [],
   "source": [
    "# Dictionary containing possible values for weights w1 and w0\n",
    "weight_dic = {'w1': [100, 50], 'w0': [0, 10]}"
   ]
  },
  {
   "cell_type": "markdown",
   "id": "aeb0ab2e",
   "metadata": {},
   "source": [
    "### Define a function"
   ]
  },
  {
   "cell_type": "code",
   "execution_count": null,
   "id": "76bf4ccd",
   "metadata": {},
   "outputs": [],
   "source": [
    "def simple_model(w1, w0, x):\n",
    "    # Simple linear model: y = w1 * x + w0\n",
    "    return w1 * x + w0"
   ]
  },
  {
   "cell_type": "markdown",
   "id": "1fe05e43",
   "metadata": {},
   "source": [
    "### Define Loss and Cost Functions"
   ]
  },
  {
   "cell_type": "code",
   "execution_count": null,
   "id": "cacc599c",
   "metadata": {},
   "outputs": [],
   "source": [
    "def loss(y_true, y_pred):\n",
    "    # Calculate squared error between true and predicted values\n",
    "    return (y_true - y_pred) ** 2\n",
    "\n",
    "def cost_function(y_true, y_pred):\n",
    "    # Calculate mean"
   ]
  },
  {
   "cell_type": "code",
   "execution_count": null,
   "id": "63c5efab",
   "metadata": {},
   "outputs": [],
   "source": [
    "def return_best_model(data):\n",
    "    # Initialize best_cost to positive infinity, so any real cost will be lower\n",
    "    best_cost = float('inf')\n",
    "    best_w1 = None  # To store the best w1 value\n",
    "    best_w0 = None  # To store the best w0 value\n",
    "\n",
    "    # Loop through all possible values of w1\n",
    "    for i in weight_dic['w1']:\n",
    "        # Loop through all possible values of w0\n",
    "        for j in weight_dic['w0']:\n",
    "            # Calculate predictions using the current w1 and w0\n",
    "            data['y_pred_w1_{}_w0_{}'.format(i, j)] = simple_model(i, j, data['x'])\n",
    "            # Compute the cost for these predictions\n",
    "            current_cost = cost_function(data['y'], data['y_pred_w1_{}_w0_{}'.format(i, j)])\n",
    "            # If the current cost is lower\n",
    "            if current_cost < best_cost:\n",
    "                best_cost = current_cost\n",
    "                best_w1 = i\n",
    "                best_w0 = j\n",
    "\n",
    "    return best_w1, best_w0, best_cost"
   ]
  },
  {
   "cell_type": "code",
   "execution_count": 5,
   "id": "a1019f6e",
   "metadata": {},
   "outputs": [],
   "source": [
    "for i in weight_dic['w1']:\n",
    "\n",
    "    for j in weight_dic['w0']:\n",
    "        \n",
    "        data['y_pred_w1_{}_w0_{}'.format(i, j)] = simple_model(i, j, data['x']) "
   ]
  },
  {
   "cell_type": "code",
   "execution_count": 10,
   "id": "3a0d1d77",
   "metadata": {},
   "outputs": [
    {
     "data": {
      "text/plain": [
       "(100, 0, 0.0)"
      ]
     },
     "execution_count": 10,
     "metadata": {},
     "output_type": "execute_result"
    }
   ],
   "source": [
    "return_best_model(data)"
   ]
  },
  {
   "cell_type": "markdown",
   "id": "030718ad",
   "metadata": {},
   "source": [
    "## All in Single Code"
   ]
  },
  {
   "cell_type": "code",
   "execution_count": null,
   "id": "41cb3cd3",
   "metadata": {},
   "outputs": [],
   "source": [
    "import pandas as pd  # Import pandas library for data manipulation\n",
    "\n",
    "# Create a DataFrame with columns 'x' and 'y' and sample data\n",
    "data = pd.DataFrame(columns=('x', 'y'), data=[(1, 100), (2, 200), (3, 300)])\n",
    "\n",
    "# Dictionary containing possible values for weights w1 and w0\n",
    "weight_dic = {'w1': [100, 50], 'w0': [0, 10]}\n",
    "\n",
    "def simple_model(w1, w0, x):\n",
    "    # Simple linear model: y = w1 * x + w0\n",
    "    return w1 * x + w0\n",
    "\n",
    "def loss(y_true, y_pred):\n",
    "    # Calculate squared error between true and predicted values\n",
    "    return (y_true - y_pred) ** 2\n",
    "\n",
    "def cost_function(y_true, y_pred):\n",
    "    # Calculate mean squared error (average loss)\n",
    "    return loss(y_true, y_pred).mean()\n",
    "\n",
    "def return_best_model(data):\n",
    "    # Initialize best_cost to positive infinity, so any real cost will be lower\n",
    "    best_cost = float('inf')\n",
    "    best_w1 = None  # To store the best w1 value\n",
    "    best_w0 = None  # To store the best w0 value\n",
    "\n",
    "    # Loop through all possible values of w1\n",
    "    for i in weight_dic['w1']:\n",
    "        # Loop through all possible values of w0\n",
    "        for j in weight_dic['w0']:\n",
    "            # Calculate predictions using the current w1 and w0\n",
    "            data['y_pred_w1_{}_w0_{}'.format(i, j)] = simple_model(i, j, data['x'])\n",
    "            # Compute the cost for these predictions\n",
    "            current_cost = cost_function(data['y'], data['y_pred_w1_{}_w0_{}'.format(i, j)])\n",
    "            # If the current cost is lower\n",
    "            if current_cost < best_cost:\n",
    "                best_cost = current_cost\n",
    "                best_w1 = i\n",
    "                best_w0 = j\n",
    "\n",
    "    return best_w1, best_w0, best_cost"
   ]
  },
  {
   "cell_type": "code",
   "execution_count": null,
   "id": "c5a33e71",
   "metadata": {},
   "outputs": [],
   "source": []
  }
 ],
 "metadata": {
  "kernelspec": {
   "display_name": "base",
   "language": "python",
   "name": "python3"
  },
  "language_info": {
   "codemirror_mode": {
    "name": "ipython",
    "version": 3
   },
   "file_extension": ".py",
   "mimetype": "text/x-python",
   "name": "python",
   "nbconvert_exporter": "python",
   "pygments_lexer": "ipython3",
   "version": "3.12.7"
  }
 },
 "nbformat": 4,
 "nbformat_minor": 5
}
