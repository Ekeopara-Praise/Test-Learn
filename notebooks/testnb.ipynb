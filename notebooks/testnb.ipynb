{
 "cells": [
  {
   "cell_type": "code",
   "execution_count": null,
   "id": "5f49fcef",
   "metadata": {},
   "outputs": [],
   "source": [
    "import numpy as np\n",
    "import matplotlib.pyplot as plt\n",
    "\n",
    "# Example data: dates and prices\n",
    "dates = np.arange(1, 13)  # Months 1 to 12\n",
    "actual_prices = np.array([100, 105, 102, 108, 110, 115, 120, 125, 130, 128, 135, 140])\n",
    "forecast_prices = actual_prices + np.random.normal(0, 3, size=len(actual_prices))  # Simple forecast\n",
    "\n",
    "plt.figure(figsize=(10, 5))\n",
    "plt.plot(dates, actual_prices, label='Actual Price', marker='o')\n",
    "plt.plot(dates, forecast_prices, label='Forecast Price', linestyle='--', marker='x')\n",
    "plt.xlabel('Month')\n",
    "plt.ylabel('Price')\n",
    "plt.title('Price Forecast Visualization')\n",
    "plt.legend()\n",
    "plt.grid(True)\n",
    "plt.show()"
   ]
  },
  {
   "cell_type": "code",
   "execution_count": null,
   "id": "6e815173",
   "metadata": {},
   "outputs": [],
   "source": []
  }
 ],
 "metadata": {
  "kernelspec": {
   "display_name": "base",
   "language": "python",
   "name": "python3"
  },
  "language_info": {
   "name": "python",
   "version": "3.12.7"
  }
 },
 "nbformat": 4,
 "nbformat_minor": 5
}
